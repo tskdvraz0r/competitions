{
 "cells": [
  {
   "cell_type": "markdown",
   "metadata": {},
   "source": [
    "# 1. IMPORTS"
   ]
  },
  {
   "cell_type": "code",
   "execution_count": null,
   "metadata": {},
   "outputs": [],
   "source": [
    "from typing import Literal"
   ]
  },
  {
   "cell_type": "markdown",
   "metadata": {},
   "source": [
    "# 2. SOLUTIONS"
   ]
  },
  {
   "cell_type": "code",
   "execution_count": null,
   "metadata": {},
   "outputs": [],
   "source": [
    "# 05.09.2023\n",
    "# Multiply\n",
    "\n",
    "def multiply(a: int, b: int) -> int:\n",
    "  return a * b"
   ]
  },
  {
   "cell_type": "code",
   "execution_count": null,
   "metadata": {},
   "outputs": [],
   "source": [
    "# 05.09.2023\n",
    "# Counting sheep...\n",
    "\n",
    "def count_sheeps(sheep: list[bool]) -> int:\n",
    "    return sum(1 for i in sheep if i == True)"
   ]
  },
  {
   "cell_type": "code",
   "execution_count": null,
   "metadata": {},
   "outputs": [],
   "source": [
    "# 05.09.2023\n",
    "# All Star Code Challenge #18\n",
    "\n",
    "def str_count(strng: str, letter: str) -> int:\n",
    "    return (strng.count(x = letter))"
   ]
  },
  {
   "cell_type": "code",
   "execution_count": null,
   "metadata": {},
   "outputs": [],
   "source": [
    "# 05.09.2023\n",
    "# Convert boolean values to strings 'Yes' or 'No'.\n",
    "\n",
    "\n",
    "\n",
    "def bool_to_word(bool: bool) -> Literal['Yes', 'No']:\n",
    "    return \"Yes\" if bool else \"No\""
   ]
  },
  {
   "cell_type": "code",
   "execution_count": null,
   "metadata": {},
   "outputs": [],
   "source": [
    "# 05.09.2023\n",
    "# Removing Elements\n",
    "\n",
    "def remove_every_other(my_list: list[str]) -> list[str]:\n",
    "    return my_list[::2]"
   ]
  },
  {
   "cell_type": "code",
   "execution_count": null,
   "metadata": {},
   "outputs": [],
   "source": [
    "# 05.09.2023\n",
    "# Opposites Attract\n",
    "\n",
    "def lovefunc(flower1: int, flower2: int) -> int:\n",
    "    return (flower1 + flower2) % 2"
   ]
  },
  {
   "cell_type": "code",
   "execution_count": null,
   "metadata": {},
   "outputs": [],
   "source": [
    "# 05.09.2023\n",
    "# DNA to RNA Conversion\n",
    "\n",
    "def dna_to_rna(dna: str) -> str:\n",
    "    return dna.replace(\"T\", \"U\")"
   ]
  },
  {
   "cell_type": "code",
   "execution_count": null,
   "metadata": {},
   "outputs": [],
   "source": [
    "# 05.09.2023\n",
    "# A Needle in the Haystack\n",
    "\n",
    "def find_needle(haystack: str) -> str:\n",
    "    return f'found the needle at position {haystack.index(\"needle\")}'"
   ]
  },
  {
   "cell_type": "code",
   "execution_count": null,
   "metadata": {},
   "outputs": [],
   "source": [
    "# 05.09.2023\n",
    "# Square(n) Sum\n",
    "\n",
    "def square_sum(numbers: list[int]) -> int:\n",
    "    return sum(x ** 2 for x in numbers)"
   ]
  },
  {
   "cell_type": "code",
   "execution_count": null,
   "metadata": {},
   "outputs": [],
   "source": [
    "# 05.09.2023\n",
    "# Sum Arrays\n",
    "\n",
    "def sum_array(a: list) -> float:\n",
    "    return 0 if not a else sum(a)"
   ]
  },
  {
   "cell_type": "code",
   "execution_count": null,
   "metadata": {},
   "outputs": [],
   "source": [
    "# 05.09.2023\n",
    "# Incorrect division method\n",
    "\n",
    "def divide_numbers(x: int, y: int) -> float:\n",
    "    return x / y"
   ]
  },
  {
   "cell_type": "code",
   "execution_count": null,
   "metadata": {},
   "outputs": [],
   "source": [
    "# 05.09.2023\n",
    "# Return Two Highest Values in List\n",
    "\n",
    "def two_highest(arg1: list[int]) -> list[int]:\n",
    "    return sorted(set(arg1), reverse = True)[:2]"
   ]
  },
  {
   "cell_type": "code",
   "execution_count": null,
   "metadata": {},
   "outputs": [],
   "source": [
    "# 05.09.2023\n",
    "# Find Multiples of a Number\n",
    "\n",
    "def find_multiples(integer: int, limit: int) -> list[int]:\n",
    "    return list(range(integer, limit + 1, integer))"
   ]
  },
  {
   "cell_type": "code",
   "execution_count": null,
   "metadata": {},
   "outputs": [],
   "source": [
    "# 05.09.2023\n",
    "# Beginner Series #1 School Paperwork\n",
    "\n",
    "def paperwork(n: int, m: int) -> int:\n",
    "    return n * m if n > 0 and m > 0 else 0"
   ]
  },
  {
   "cell_type": "code",
   "execution_count": null,
   "metadata": {},
   "outputs": [],
   "source": [
    "# 05.09.2023\n",
    "# Is it even?\n",
    "\n",
    "def is_even(n: int) -> bool: \n",
    "    return n % 2 == 0"
   ]
  },
  {
   "cell_type": "code",
   "execution_count": null,
   "metadata": {},
   "outputs": [],
   "source": [
    "# 05.09.2023\n",
    "# Sum of positive\n",
    "\n",
    "def positive_sum(arr: list[int]) -> int:\n",
    "    return sum(x for x in arr if x > 0)"
   ]
  },
  {
   "cell_type": "code",
   "execution_count": null,
   "metadata": {},
   "outputs": [],
   "source": [
    "# 05.09.2023\n",
    "# Return Negative\n",
    "\n",
    "def make_negative(number: int) -> int:\n",
    "    return -abs(number)"
   ]
  },
  {
   "cell_type": "code",
   "execution_count": null,
   "metadata": {},
   "outputs": [],
   "source": [
    "# 05.09.2023\n",
    "# Reversed Strings\n",
    "\n",
    "def solution(str: str) -> str:\n",
    "  return str[::-1]"
   ]
  },
  {
   "cell_type": "code",
   "execution_count": null,
   "metadata": {},
   "outputs": [],
   "source": [
    "# 05.09.2023\n",
    "# Convert a Number to a String!\n",
    "\n",
    "def number_to_string(num: int) -> str:\n",
    "    return str(object = num)"
   ]
  },
  {
   "cell_type": "code",
   "execution_count": null,
   "metadata": {},
   "outputs": [],
   "source": [
    "# 05.09.2023\n",
    "# Remove First and Last Character\n",
    "\n",
    "def remove_char(s: str) -> str:\n",
    "    return s[1:-1]"
   ]
  },
  {
   "cell_type": "code",
   "execution_count": null,
   "metadata": {},
   "outputs": [],
   "source": [
    "# 05.09.2023\n",
    "# String repeat\n",
    "\n",
    "def repeat_str(repeat: int, string: str) -> str:\n",
    "    return repeat * string"
   ]
  },
  {
   "cell_type": "code",
   "execution_count": null,
   "metadata": {},
   "outputs": [],
   "source": [
    "# 05.09.2023\n",
    "# Remove String Spaces\n",
    "\n",
    "def no_space(x: str) -> str:\n",
    "    return x.replace(' ' ,'')"
   ]
  },
  {
   "cell_type": "code",
   "execution_count": null,
   "metadata": {},
   "outputs": [],
   "source": [
    "# 05.09.2023\n",
    "# Find the smallest integer in the array\n",
    "\n",
    "def findSmallestInt(arr: list[int]) -> int:\n",
    "    return min(arr)"
   ]
  },
  {
   "cell_type": "code",
   "execution_count": null,
   "metadata": {},
   "outputs": [],
   "source": [
    "# 05.09.2023\n",
    "# Century From Year\n",
    "\n",
    "def century(year: int) -> int:\n",
    "    return year // 100 if year % 100 == 0 else (year // 100 + 1)"
   ]
  },
  {
   "cell_type": "code",
   "execution_count": null,
   "metadata": {},
   "outputs": [],
   "source": [
    "# 05.09.2023\n",
    "# Is n divisible by x and y?\n",
    "\n",
    "def is_divisible(n: int, x: int, y: int) -> bool:\n",
    "    return n % x == 0 and n % y == 0"
   ]
  },
  {
   "cell_type": "code",
   "execution_count": null,
   "metadata": {},
   "outputs": [],
   "source": [
    "# 05.09.2023\n",
    "# Convert a String to a Number!\n",
    "\n",
    "def string_to_number(s: str) -> int:\n",
    "    return int(s)"
   ]
  },
  {
   "cell_type": "code",
   "execution_count": null,
   "metadata": {},
   "outputs": [],
   "source": [
    "# 05.09.2023\n",
    "# Convert a Boolean to a String\n",
    "\n",
    "def boolean_to_string(b: bool) -> str:\n",
    "    return str(object = b)"
   ]
  },
  {
   "cell_type": "code",
   "execution_count": null,
   "metadata": {},
   "outputs": [],
   "source": [
    "# 05.09.2023\n",
    "# Function 1 - hello world\n",
    "\n",
    "from typing import Literal\n",
    "\n",
    "def greet() -> Literal['hello world!']:\n",
    "    return \"hello world!\""
   ]
  },
  {
   "cell_type": "code",
   "execution_count": null,
   "metadata": {},
   "outputs": [],
   "source": [
    "# 05.09.2023\n",
    "# Returning Strings\n",
    "\n",
    "def greet(name: str) -> str:\n",
    "    return f'Hello, {name} how are you doing today?'"
   ]
  },
  {
   "cell_type": "code",
   "execution_count": null,
   "metadata": {},
   "outputs": [],
   "source": [
    "# 05.09.2023\n",
    "# Beginner Series #2 Clock\n",
    "\n",
    "def past(h: int, m: int, s: int) -> int:\n",
    "    return ((h * 60 + m) * 60 + s) * 1000"
   ]
  },
  {
   "cell_type": "code",
   "execution_count": null,
   "metadata": {},
   "outputs": [],
   "source": [
    "# 05.09.2023\n",
    "# Are You Playing Banjo?\n",
    "\n",
    "def areYouPlayingBanjo(name: str) -> str:\n",
    "    return name + (\" plays\" if name[0].lower() == \"r\" else \" does not play\") + \" banjo\""
   ]
  },
  {
   "cell_type": "code",
   "execution_count": null,
   "metadata": {},
   "outputs": [],
   "source": [
    "# 05.09.2023\n",
    "# Calculate average\n",
    "\n",
    "from typing import Literal\n",
    "\n",
    "def find_average(array: list[int]) -> float | Literal[0]:\n",
    "    return sum(array) / len(array) if array else 0"
   ]
  },
  {
   "cell_type": "code",
   "execution_count": null,
   "metadata": {},
   "outputs": [],
   "source": [
    "# 05.09.2023\n",
    "# Reversed sequence\n",
    "\n",
    "def reverseseq(n: int) -> list[int]:\n",
    "    return list(range(n, 0, -1))"
   ]
  },
  {
   "cell_type": "code",
   "execution_count": null,
   "metadata": {},
   "outputs": [],
   "source": [
    "# 05.09.2023\n",
    "# Is he gonna survive?\n",
    "\n",
    "def hero(bullets: int, dragons: int) -> bool:\n",
    "    return bullets >= dragons * 2"
   ]
  },
  {
   "cell_type": "code",
   "execution_count": null,
   "metadata": {},
   "outputs": [],
   "source": [
    "# 05.09.2023\n",
    "# Opposite number\n",
    "\n",
    "def opposite(number: int) -> int:\n",
    "  return number * -1"
   ]
  },
  {
   "cell_type": "code",
   "execution_count": null,
   "metadata": {},
   "outputs": [],
   "source": [
    "# 05.09.2023\n",
    "# Grasshopper - Summation\n",
    "\n",
    "def summation(num: int) -> int:\n",
    "    return sum(range(1,num + 1))"
   ]
  },
  {
   "cell_type": "code",
   "execution_count": null,
   "metadata": {},
   "outputs": [],
   "source": [
    "# 05.09.2023\n",
    "# Keep Hydrated!\n",
    "\n",
    "def litres(time: float) -> float:\n",
    "    return time // 2"
   ]
  },
  {
   "cell_type": "code",
   "execution_count": null,
   "metadata": {},
   "outputs": [],
   "source": [
    "# 05.09.2023\n",
    "# Convert number to reversed array of digits\n",
    "\n",
    "def digitize(n: int) -> list[int]:\n",
    "    return [int(x) for x in reversed(str(object = n))]\n"
   ]
  },
  {
   "cell_type": "code",
   "execution_count": null,
   "metadata": {},
   "outputs": [],
   "source": [
    "# 05.09.2023\n",
    "# Up and down, the string grows\n",
    "\n",
    "STRANGE_STRING = \"ß\""
   ]
  }
 ],
 "metadata": {
  "kernelspec": {
   "display_name": ".venv",
   "language": "python",
   "name": "python3"
  },
  "language_info": {
   "codemirror_mode": {
    "name": "ipython",
    "version": 3
   },
   "file_extension": ".py",
   "mimetype": "text/x-python",
   "name": "python",
   "nbconvert_exporter": "python",
   "pygments_lexer": "ipython3",
   "version": "3.11.5"
  },
  "orig_nbformat": 4,
  "polyglot_notebook": {
   "kernelInfo": {
    "defaultKernelName": "csharp",
    "items": [
     {
      "aliases": [],
      "name": "csharp"
     }
    ]
   }
  }
 },
 "nbformat": 4,
 "nbformat_minor": 2
}
